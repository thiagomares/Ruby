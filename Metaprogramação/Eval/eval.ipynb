{
 "cells": [
  {
   "cell_type": "markdown",
   "metadata": {},
   "source": [
    "# Instance Eval\n"
   ]
  },
  {
   "cell_type": "code",
   "execution_count": 38,
   "metadata": {},
   "outputs": [
    {
     "name": "stdout",
     "output_type": "stream",
     "text": [
      "Thiago\n",
      "\n"
     ]
    }
   ],
   "source": [
    "require 'byebug'\n",
    "\n",
    "a = 'puts \"Thiago\"'\n",
    "eval(a) # O eval tem o poder de executar algo dinamicamente dentro do ruby\n",
    "\n",
    "class Teste\n",
    "  def initialize\n",
    "    @variavel = 'Thiago'\n",
    "  end\n",
    "\n",
    "  private\n",
    "\n",
    "  def privado_metodo\n",
    "    @variavel\n",
    "  end\n",
    "\n",
    "  public\n",
    "  def preparador=(valor)\n",
    "    @valor = valor\n",
    "  end\n",
    "end\n",
    "\n",
    "Teste.instance_eval do\n",
    "  puts @variavel\n",
    "end\n"
   ]
  },
  {
   "cell_type": "code",
   "execution_count": 39,
   "metadata": {},
   "outputs": [
    {
     "name": "stdout",
     "output_type": "stream",
     "text": [
      "Thiago\n"
     ]
    }
   ],
   "source": [
    "# Coletando um método privado\n",
    "\n",
    "privado = Teste.new\n",
    "\n",
    "privado.instance_eval do\n",
    "  puts privado_metodo\n",
    "end\n"
   ]
  },
  {
   "cell_type": "code",
   "execution_count": 40,
   "metadata": {},
   "outputs": [
    {
     "name": "stdout",
     "output_type": "stream",
     "text": [
      "olá mundo\n"
     ]
    }
   ],
   "source": [
    "# Criando métodos com instance eval\n",
    "\n",
    "privado.instance_eval do\n",
    "  def metodo\n",
    "    puts 'olá mundo'\n",
    "  end\n",
    "end\n",
    "\n",
    "privado.metodo\n",
    "\n"
   ]
  },
  {
   "cell_type": "code",
   "execution_count": 43,
   "metadata": {},
   "outputs": [
    {
     "name": "stdout",
     "output_type": "stream",
     "text": [
      "Atlético\n"
     ]
    }
   ],
   "source": [
    "# Setter e getter\n",
    "teste = Teste.new\n",
    "teste.preparador = 'Atlético' # Aqui nos modificamos o valor a partir da classe\n",
    "\n",
    "teste.instance_eval do\n",
    "    puts @valor # neste caso, como estamos buscando o valor e nao temos um get, temos que utilizar um instance eval\n",
    "end"
   ]
  }
 ],
 "metadata": {
  "kernelspec": {
   "display_name": "Ruby 3.1.1",
   "language": "ruby",
   "name": "ruby"
  },
  "language_info": {
   "file_extension": ".rb",
   "mimetype": "application/x-ruby",
   "name": "ruby",
   "version": "3.1.1"
  },
  "orig_nbformat": 4
 },
 "nbformat": 4,
 "nbformat_minor": 2
}

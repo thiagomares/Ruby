{
 "cells": [
  {
   "cell_type": "markdown",
   "metadata": {},
   "source": [
    "# Instance Eval\n"
   ]
  },
  {
   "cell_type": "code",
   "execution_count": null,
   "metadata": {},
   "outputs": [],
   "source": [
    "require 'byebug'\n",
    "\n",
    "a = 'puts \"Thiago\"'\n",
    "eval(a) # O eval tem o poder de executar algo dinamicamente dentro do ruby\n",
    "\n",
    "class Teste\n",
    "  def initialize\n",
    "    @variavel = 'Thiago'\n",
    "  end\n",
    "\n",
    "  private\n",
    "\n",
    "  def privado_metodo\n",
    "    @variavel\n",
    "  end\n",
    "\n",
    "  public\n",
    "\n",
    "  def preparador=(valor)\n",
    "    @valor = valor\n",
    "    @valor\n",
    "  end\n",
    "end\n",
    "\n",
    "Teste.instance_eval do\n",
    "  puts @variavel\n",
    "end\n"
   ]
  },
  {
   "cell_type": "code",
   "execution_count": null,
   "metadata": {},
   "outputs": [],
   "source": [
    "# Coletando um método privado\n",
    "\n",
    "privado = Teste.new\n",
    "\n",
    "privado.instance_eval do\n",
    "\n",
    "  puts privado_metodo\n",
    "\n",
    "end\n"
   ]
  },
  {
   "cell_type": "code",
   "execution_count": null,
   "metadata": {},
   "outputs": [],
   "source": [
    "# Criando métodos com instance eval\n",
    "\n",
    "privado.instance_eval do\n",
    "  def metodo\n",
    "    puts 'olá mundo'\n",
    "  end\n",
    "end\n",
    "\n",
    "privado.metodo\n"
   ]
  },
  {
   "cell_type": "code",
   "execution_count": null,
   "metadata": {},
   "outputs": [],
   "source": [
    "# Setter e getter\n",
    "teste = Teste.new\n",
    "teste.preparador = 'Atlético' # Aqui nos modificamos o valor a partir da classe\n",
    "\n",
    "teste.instance_eval do\n",
    "  puts @valor # neste caso, como estamos buscando o valor e nao temos um get, temos que utilizar um instance eval\n",
    "end\n"
   ]
  },
  {
   "cell_type": "code",
   "execution_count": null,
   "metadata": {},
   "outputs": [],
   "source": [
    "# Lembra lá tras de Herança e polimorfismo? vamos fazer algo parecido\n",
    "\n",
    "teste.instance_eval do\n",
    "  def metodo\n",
    "    puts 'método'\n",
    "  end\n",
    "end\n",
    "\n",
    "teste.metodo\n",
    "puts teste.instance_eval { @valor }\n"
   ]
  },
  {
   "cell_type": "code",
   "execution_count": null,
   "metadata": {},
   "outputs": [],
   "source": [
    "# Utilizando instance_eval diretamente a classe\n",
    "\n",
    "Teste.instance_eval do\n",
    "  def methodo\n",
    "    puts 'olá mundo!'\n",
    "  end\n",
    "end\n",
    "\n",
    "# O método instance eval diretamente na classe é como se buscassemos a classe lá encima e escrevessemos diretamente a ela.\n",
    "\n",
    "Teste.methodo\n"
   ]
  },
  {
   "cell_type": "markdown",
   "metadata": {},
   "source": [
    "# Utilizando o class eval\n"
   ]
  }
 ],
 "metadata": {
  "kernelspec": {
   "display_name": "Ruby 3.1.1",
   "language": "ruby",
   "name": "ruby"
  },
  "language_info": {
   "file_extension": ".rb",
   "mimetype": "application/x-ruby",
   "name": "ruby",
   "version": "3.1.1"
  },
  "orig_nbformat": 4
 },
 "nbformat": 4,
 "nbformat_minor": 2
}
